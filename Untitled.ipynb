{
 "cells": [
  {
   "cell_type": "markdown",
   "metadata": {},
   "source": [
    "## Finding the energy spectrum of a one neutron halo nucleus"
   ]
  },
  {
   "cell_type": "markdown",
   "metadata": {},
   "source": [
    "In this script we would like to calculate the spectrum of a one-neutron halo nucleon. We consider:\n",
    "    - a core nucleon (A,Z)\n",
    "    - a valence neutron\n",
    "    ----> an (A+1,Z) system, where the last neutron is loosely bound.\n",
    "We will assume different core-valence potentials which reproduce the meassured parameters of a given nucleon. \n",
    "We work in coordinate representation. In numerical calculations we use an N-piece resolution of each spatial dimension, which will lead to the use of N^d x N^d matrices and N^d vectors for wavefunctions."
   ]
  },
  {
   "cell_type": "code",
   "execution_count": 1,
   "metadata": {
    "collapsed": true
   },
   "outputs": [],
   "source": [
    "#imports\n",
    "import numpy as np\n",
    "from matplotlib import pyplot as plt"
   ]
  },
  {
   "cell_type": "markdown",
   "metadata": {},
   "source": [
    "The problem we are trying to solve is the Schrödinger equation with some arbitrary potential. The equation in coordinate representation:\n",
    "    \n",
    "<center>$\\big(\\frac{-\\hbar^2}{2m_c} \\Delta_c + \\frac{-\\hbar^2}{2m_n} \\Delta_n + V_{c-n}(\\mathbf{r}_c,\\mathbf{r}_n)\\big) \\Psi(\\mathbf{r}_c,\\mathbf{r}_n)=E\\Psi(\\mathbf{r}_c,\\mathbf{r}_n)$,\n",
    "  \n",
    "where the $c$ and $n$ indices refer to the core and neutron respectively. We cann transform our coordinates to center-of-mass and relative coordinates:\n",
    "\n",
    "<center> $\\mathbf{r}=\\mathbf{r}_n-\\mathbf{r}_c, \\quad \\mathbf{R}=\\frac{m_c\\mathbf{r}_c+m_n\\mathbf{r}_n}{m_c+m_n}$,\n",
    "\n",
    "with inverse transformations:\n",
    "\n",
    "<center> $\\mathbf{r}_c = \\mathbf{R}-\\frac{\\mu}{m_c}\\mathbf{r}, \\quad \\mathbf{r}_n=\\mathbf{R}+\\frac{\\mu}{m_n}\\mathbf{r}$.\n",
    "\n",
    "Supposing that $V_{c-n}(\\mathbf{r}_c,\\mathbf{r}_n)=V_{c-n}(\\mathbf{r})$, we can leave the $\\mathbf{R}$-dependent part of the equation, because by separation we would get the trivial plain-wave solution which is to be identified wiith the motion of the CM. Leaving the corresponding kinetic term is identical with the phrase 'we sit in the CM-frame'. So we are up to solve the following equation for the relative motion:\n",
    "\n",
    "<center> $\\big(\\frac{-\\hbar^2}{2 \\mu}\\Delta+V_{c-n}(\\mathbf{r})\\big)\\Psi(\\mathbf{r})=E\\Psi(\\mathbf{r})$.\n"
   ]
  },
  {
   "cell_type": "markdown",
   "metadata": {},
   "source": [
    "We suppose that the potential is central, hence: $V_{c-n}(\\mathbf{r})=V_{c-n}(r)$. This will lead to the usefullness of the ansatz: $\\Psi(\\mathbf{r})=\\frac{u(r)}{r}Y_l^m(\\Omega)$, where $Y$ are the spherical harmonics. Using this we end up with the radial Schrödinger-equation for $u$:\n",
    "\n",
    "<center> $u''+\\big( \\frac{2\\mu E}{\\hbar^2}-\\frac{l(l+1)}{r^2}-\\frac{2\\mu V_{c-n}(r)}{\\hbar^2} \\big)u=0$."
   ]
  },
  {
   "cell_type": "code",
   "execution_count": null,
   "metadata": {
    "collapsed": true
   },
   "outputs": [],
   "source": []
  }
 ],
 "metadata": {
  "kernelspec": {
   "display_name": "Python 3",
   "language": "python",
   "name": "python3"
  },
  "language_info": {
   "codemirror_mode": {
    "name": "ipython",
    "version": 3
   },
   "file_extension": ".py",
   "mimetype": "text/x-python",
   "name": "python",
   "nbconvert_exporter": "python",
   "pygments_lexer": "ipython3",
   "version": "3.5.2"
  }
 },
 "nbformat": 4,
 "nbformat_minor": 1
}
